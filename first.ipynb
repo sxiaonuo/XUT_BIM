{
 "cells": [
  {
   "cell_type": "code",
   "execution_count": null,
   "metadata": {
    "collapsed": true
   },
   "outputs": [],
   "source": [
    "import ezdxf\n",
    "import os\n",
    "\n",
    "dir_path = 'E:\\code\\CADCode'\n",
    "\n",
    "def get_e_l_color(e):\n",
    "    e_color = ezdxf.int2rgb(e.dxf.color)\n",
    "    l_color = ezdxf.int2rgb(doc.layers.get(e.dxf.layer).color)\n",
    "    return e_color, l_color"
   ]
  },
  {
   "cell_type": "code",
   "execution_count": 7,
   "outputs": [
    {
     "name": "stdout",
     "output_type": "stream",
     "text": [
      "POLYLINE 0\n",
      "POLYLINE 0\n",
      "POLYLINE 0\n",
      "POLYLINE 0\n",
      "POLYLINE 0\n",
      "POLYLINE 0\n",
      "POLYLINE 0\n"
     ]
    }
   ],
   "source": [
    "doc = ezdxf.readfile(os.path.join(dir_path, 'DXF2 (2).dxf'))\n",
    "msp = doc.modelspace()\n",
    "\n",
    "for e in msp:\n",
    "    print(e.dxftype(), e.dxf.get('layer'))"
   ],
   "metadata": {
    "collapsed": false
   }
  },
  {
   "cell_type": "code",
   "execution_count": null,
   "outputs": [],
   "source": [],
   "metadata": {
    "collapsed": false
   }
  }
 ],
 "metadata": {
  "kernelspec": {
   "display_name": "Python 3",
   "language": "python",
   "name": "python3"
  },
  "language_info": {
   "codemirror_mode": {
    "name": "ipython",
    "version": 2
   },
   "file_extension": ".py",
   "mimetype": "text/x-python",
   "name": "python",
   "nbconvert_exporter": "python",
   "pygments_lexer": "ipython2",
   "version": "2.7.6"
  }
 },
 "nbformat": 4,
 "nbformat_minor": 0
}
