{
 "cells": [
  {
   "cell_type": "code",
   "execution_count": 5,
   "metadata": {
    "collapsed": true
   },
   "outputs": [],
   "source": [
    "import os\n",
    "import numpy as np\n",
    "import cv2\n",
    "\n",
    "import json\n",
    "from itertools import combinations\n",
    "\n",
    "import cv2\n",
    "import numpy as np\n",
    "import skimage.draw\n",
    "import matplotlib.pyplot as plt\n",
    "from docopt import docopt\n",
    "from scipy.ndimage import zoom"
   ]
  },
  {
   "cell_type": "code",
   "execution_count": 18,
   "outputs": [],
   "source": [
    "def inrange(v, shape):\n",
    "    return 0 <= v[0] < shape[0] and 0 <= v[1] < shape[1]\n",
    "\n",
    "\n",
    "def to_int(x):\n",
    "    return tuple(map(int, x))\n",
    "\n",
    "\n",
    "def save_heatmap(prefix, image, lines):\n",
    "    im_rescale = (512, 512)\n",
    "    heatmap_scale = (128, 128)\n",
    "\n",
    "    fy, fx = heatmap_scale[1] / image.shape[0], heatmap_scale[0] / image.shape[1]\n",
    "    jmap = np.zeros((1,) + heatmap_scale, dtype=np.float32)\n",
    "    joff = np.zeros((1, 2) + heatmap_scale, dtype=np.float32)\n",
    "    lmap = np.zeros(heatmap_scale, dtype=np.float32)\n",
    "\n",
    "    lines[:, :, 0] = np.clip(lines[:, :, 0] * fx, 0, heatmap_scale[0] - 1e-4)\n",
    "    lines[:, :, 1] = np.clip(lines[:, :, 1] * fy, 0, heatmap_scale[1] - 1e-4)\n",
    "    lines = lines[:, :, ::-1]\n",
    "\n",
    "    junc = []\n",
    "    jids = {}\n",
    "\n",
    "    def jid(jun):\n",
    "        jun = tuple(jun[:2])\n",
    "        if jun in jids:\n",
    "            return jids[jun]\n",
    "        jids[jun] = len(junc)\n",
    "        junc.append(np.array(jun + (0,)))\n",
    "        return len(junc) - 1\n",
    "\n",
    "    lnid = []\n",
    "    lpos, lneg = [], []\n",
    "    for v0, v1 in lines:\n",
    "        lnid.append((jid(v0), jid(v1)))\n",
    "        lpos.append([junc[jid(v0)], junc[jid(v1)]])\n",
    "\n",
    "        vint0, vint1 = to_int(v0), to_int(v1)\n",
    "        jmap[0][vint0] = 1\n",
    "        jmap[0][vint1] = 1\n",
    "        rr, cc, value = skimage.draw.line_aa(*to_int(v0), *to_int(v1))\n",
    "        lmap[rr, cc] = np.maximum(lmap[rr, cc], value)\n",
    "\n",
    "    for v in junc:\n",
    "        vint = to_int(v[:2])\n",
    "        joff[0, :, vint[0], vint[1]] = v[:2] - vint - 0.5\n",
    "\n",
    "    llmap = zoom(lmap, [0.5, 0.5])\n",
    "    lineset = set([frozenset(l) for l in lnid])\n",
    "    for i0, i1 in combinations(range(len(junc)), 2):\n",
    "        if frozenset([i0, i1]) not in lineset:\n",
    "            v0, v1 = junc[i0], junc[i1]\n",
    "            vint0, vint1 = to_int(v0[:2] / 2), to_int(v1[:2] / 2)\n",
    "            rr, cc, value = skimage.draw.line_aa(*vint0, *vint1)\n",
    "            lneg.append([v0, v1, i0, i1, np.average(np.minimum(value, llmap[rr, cc]))])\n",
    "\n",
    "    assert len(lneg) != 0\n",
    "    lneg.sort(key=lambda l: -l[-1])\n",
    "\n",
    "    junc = np.array(junc, dtype=np.float32)\n",
    "    Lpos = np.array(lnid, dtype=np.int64)\n",
    "    Lneg = np.array([l[2:4] for l in lneg][:4000], dtype=np.int64)\n",
    "    lpos = np.array(lpos, dtype=np.float32)\n",
    "    lneg = np.array([l[:2] for l in lneg[:2000]], dtype=np.float32)\n",
    "\n",
    "    image = cv2.resize(image, im_rescale)\n",
    "\n",
    "    # plt.subplot(131), plt.imshow(lmap)\n",
    "    # plt.subplot(132), plt.imshow(image)\n",
    "    # for i0, i1 in Lpos:\n",
    "    #     plt.scatter(junc[i0][1] * 4, junc[i0][0] * 4)\n",
    "    #     plt.scatter(junc[i1][1] * 4, junc[i1][0] * 4)\n",
    "    #     plt.plot([junc[i0][1] * 4, junc[i1][1] * 4], [junc[i0][0] * 4, junc[i1][0] * 4])\n",
    "    # plt.subplot(133), plt.imshow(lmap)\n",
    "    # for i0, i1 in Lneg[:150]:\n",
    "    #     plt.plot([junc[i0][1], junc[i1][1]], [junc[i0][0], junc[i1][0]])\n",
    "    # plt.show()\n",
    "\n",
    "    # For junc, lpos, and lneg that stores the junction coordinates, the last\n",
    "    # dimension is (y, x, t), where t represents the type of that junction.  In\n",
    "    # the wireframe dataset, t is always zero.\n",
    "    np.savez_compressed(\n",
    "        f\"{prefix}_label.npz\",\n",
    "        aspect_ratio=image.shape[1] / image.shape[0],\n",
    "        jmap=jmap,  # [J, H, W]    Junction heat map\n",
    "        joff=joff,  # [J, 2, H, W] Junction offset within each pixel\n",
    "        lmap=lmap,  # [H, W]       Line heat map with anti-aliasing\n",
    "        junc=junc,  # [Na, 3]      Junction coordinate\n",
    "        Lpos=Lpos,  # [M, 2]       Positive lines represented with junction indices\n",
    "        Lneg=Lneg,  # [M, 2]       Negative lines represented with junction indices\n",
    "        lpos=lpos,  # [Np, 2, 3]   Positive lines represented with junction coordinates\n",
    "        lneg=lneg,  # [Nn, 2, 3]   Negative lines represented with junction coordinates\n",
    "    )\n",
    "    cv2.imwrite(f\"{prefix}.png\", image)"
   ],
   "metadata": {
    "collapsed": false
   }
  },
  {
   "cell_type": "code",
   "execution_count": 19,
   "outputs": [
    {
     "name": "stdout",
     "output_type": "stream",
     "text": [
      "Finishing annotation-tools\\dst\\train\\0012-0009\n"
     ]
    }
   ],
   "source": [
    "def handle(data, data_root, data_output, batch):\n",
    "    im = cv2.imread(os.path.join(data_root, \"images\", data[\"filename\"]))\n",
    "    prefix = data[\"filename\"].split(\".\")[0]\n",
    "    lines = np.array(data[\"lines\"]).reshape(-1, 2, 2)\n",
    "    os.makedirs(os.path.join(data_output, batch), exist_ok=True)\n",
    "\n",
    "    lines0 = lines.copy()\n",
    "    lines1 = lines.copy()\n",
    "    lines1[:, :, 0] = im.shape[1] - lines1[:, :, 0]\n",
    "    lines2 = lines.copy()\n",
    "    lines2[:, :, 1] = im.shape[0] - lines2[:, :, 1]\n",
    "    lines3 = lines.copy()\n",
    "    lines3[:, :, 0] = im.shape[1] - lines3[:, :, 0]\n",
    "    lines3[:, :, 1] = im.shape[0] - lines3[:, :, 1]\n",
    "\n",
    "    path = os.path.join(data_output, batch, prefix)\n",
    "    save_heatmap(f\"{path}_0\", im[::, ::], lines0)\n",
    "    if batch != \"valid\":\n",
    "        save_heatmap(f\"{path}_1\", im[::, ::-1], lines1)\n",
    "        save_heatmap(f\"{path}_2\", im[::-1, ::], lines2)\n",
    "        save_heatmap(f\"{path}_3\", im[::-1, ::-1], lines3)\n",
    "    print(\"Finishing\", os.path.join(data_output, batch, prefix))\n",
    "\n",
    "\n",
    "def main():\n",
    "    # args = docopt(__doc__)\n",
    "    data_root = os.path.join(\"src\")\n",
    "    data_output = os.path.join(\"dst\")\n",
    "    batch = 'train'\n",
    "\n",
    "    os.makedirs(data_output, exist_ok=True)\n",
    "    anno_file = os.path.join(data_root, f\"{batch}.json\")\n",
    "\n",
    "    with open(anno_file, \"r\") as f:\n",
    "        dataset = json.load(f)\n",
    "\n",
    "\n",
    "    for data in dataset:\n",
    "        handle(data, data_root, data_output, batch)\n",
    "\n",
    "main()"
   ],
   "metadata": {
    "collapsed": false
   }
  },
  {
   "cell_type": "code",
   "execution_count": null,
   "outputs": [],
   "source": [
    "# 格式\n",
    "[{'filename': '0012-0009.png', 'lines': [[1795, 1782, 1795, 237], [1684, 242, 1686, 1784]], 'height': 2000, 'width': 2000}]"
   ],
   "metadata": {
    "collapsed": false
   }
  },
  {
   "cell_type": "code",
   "execution_count": 26,
   "outputs": [
    {
     "name": "stdout",
     "output_type": "stream",
     "text": [
      "{http://www.w3.org/2000/svg}g {'id': 'layer0', '{http://www.inkscape.org/namespaces/inkscape}groupmode': 'layer', '{http://www.inkscape.org/namespaces/inkscape}label': '0'}\n",
      "{http://www.w3.org/2000/svg}g {'id': 'layerAXIS', '{http://www.inkscape.org/namespaces/inkscape}groupmode': 'layer', '{http://www.inkscape.org/namespaces/inkscape}label': 'AXIS'}\n",
      "{http://www.w3.org/2000/svg}g {'id': 'layerCOLUMN', '{http://www.inkscape.org/namespaces/inkscape}groupmode': 'layer', '{http://www.inkscape.org/namespaces/inkscape}label': 'COLUMN'}\n",
      "{http://www.w3.org/2000/svg}g {'id': 'layerDIM_LEAD', '{http://www.inkscape.org/namespaces/inkscape}groupmode': 'layer', '{http://www.inkscape.org/namespaces/inkscape}label': 'DIM_LEAD'}\n",
      "{http://www.w3.org/2000/svg}g {'id': 'layerDOTE', '{http://www.inkscape.org/namespaces/inkscape}groupmode': 'layer', '{http://www.inkscape.org/namespaces/inkscape}label': 'DOTE'}\n",
      "{http://www.w3.org/2000/svg}g {'id': 'layerPUB_DIM', '{http://www.inkscape.org/namespaces/inkscape}groupmode': 'layer', '{http://www.inkscape.org/namespaces/inkscape}label': 'PUB_DIM'}\n",
      "{http://www.w3.org/2000/svg}g {'id': 'layerPUB_HATCH', '{http://www.inkscape.org/namespaces/inkscape}groupmode': 'layer', '{http://www.inkscape.org/namespaces/inkscape}label': 'PUB_HATCH'}\n",
      "{http://www.w3.org/2000/svg}g {'id': 'layerPUB_TEXT', '{http://www.inkscape.org/namespaces/inkscape}groupmode': 'layer', '{http://www.inkscape.org/namespaces/inkscape}label': 'PUB_TEXT'}\n",
      "{http://www.w3.org/2000/svg}g {'id': 'layerWALL', '{http://www.inkscape.org/namespaces/inkscape}groupmode': 'layer', '{http://www.inkscape.org/namespaces/inkscape}label': 'WALL'}\n",
      "{http://www.w3.org/2000/svg}g {'id': 'layerWINDOW', '{http://www.inkscape.org/namespaces/inkscape}groupmode': 'layer', '{http://www.inkscape.org/namespaces/inkscape}label': 'WINDOW'}\n",
      "{http://www.w3.org/2000/svg}g {'id': 'layerWINDOW_TEXT', '{http://www.inkscape.org/namespaces/inkscape}groupmode': 'layer', '{http://www.inkscape.org/namespaces/inkscape}label': 'WINDOW_TEXT'}\n",
      "{http://www.w3.org/2000/svg}g {'id': 'layer地饰', '{http://www.inkscape.org/namespaces/inkscape}groupmode': 'layer', '{http://www.inkscape.org/namespaces/inkscape}label': '地饰'}\n",
      "{http://www.w3.org/2000/svg}g {'id': 'layer家具', '{http://www.inkscape.org/namespaces/inkscape}groupmode': 'layer', '{http://www.inkscape.org/namespaces/inkscape}label': '家具'}\n",
      "{http://www.w3.org/2000/svg}g {'id': 'layer装施家具', '{http://www.inkscape.org/namespaces/inkscape}groupmode': 'layer', '{http://www.inkscape.org/namespaces/inkscape}label': '装施家具'}\n"
     ]
    }
   ],
   "source": [
    "# 读取svg\n",
    "\n",
    "import xml.etree.ElementTree as ET\n",
    "\n",
    "tree = ET.parse(r'G:\\DeepLearning\\数据集\\train-00\\0000-0002.svg')\n",
    "root = tree.getroot()\n",
    "\n",
    "ns = {'svg': 'http://www.w3.org/2000/svg'}\n",
    "# root.findall('.//svg:line', namespaces=ns)"
   ],
   "metadata": {
    "collapsed": false
   }
  },
  {
   "cell_type": "code",
   "execution_count": null,
   "outputs": [],
   "source": [],
   "metadata": {
    "collapsed": false
   }
  }
 ],
 "metadata": {
  "kernelspec": {
   "display_name": "Python 3",
   "language": "python",
   "name": "python3"
  },
  "language_info": {
   "codemirror_mode": {
    "name": "ipython",
    "version": 2
   },
   "file_extension": ".py",
   "mimetype": "text/x-python",
   "name": "python",
   "nbconvert_exporter": "python",
   "pygments_lexer": "ipython2",
   "version": "2.7.6"
  }
 },
 "nbformat": 4,
 "nbformat_minor": 0
}
